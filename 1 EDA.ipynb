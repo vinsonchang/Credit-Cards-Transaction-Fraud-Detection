{
 "cells": [
  {
   "cell_type": "code",
   "execution_count": 1,
   "metadata": {},
   "outputs": [],
   "source": [
    "from timeit import default_timer as timer\n",
    "import pandas as pd\n",
    "import scipy.stats\n",
    "import numpy as np\n",
    "import datetime as dt\n",
    "import seaborn as sns\n",
    "import matplotlib.pyplot as plt\n",
    "%matplotlib inline\n",
    "start_time = timer()\n",
    "import time"
   ]
  },
  {
   "cell_type": "code",
   "execution_count": 2,
   "metadata": {},
   "outputs": [],
   "source": [
    "import calendar"
   ]
  },
  {
   "cell_type": "markdown",
   "metadata": {},
   "source": [
    "# Data Quality Report"
   ]
  },
  {
   "cell_type": "markdown",
   "metadata": {
    "heading_collapsed": true
   },
   "source": [
    "### Overview"
   ]
  },
  {
   "cell_type": "code",
   "execution_count": 3,
   "metadata": {
    "hidden": true
   },
   "outputs": [],
   "source": [
    "data = pd.read_csv(\"card transactions.csv\", converters={'Merchnum': lambda x:str(x)})"
   ]
  },
  {
   "cell_type": "code",
   "execution_count": 4,
   "metadata": {
    "hidden": true
   },
   "outputs": [
    {
     "data": {
      "text/plain": [
       "(96753, 10)"
      ]
     },
     "execution_count": 4,
     "metadata": {},
     "output_type": "execute_result"
    }
   ],
   "source": [
    "data.shape"
   ]
  },
  {
   "cell_type": "code",
   "execution_count": 5,
   "metadata": {
    "hidden": true,
    "scrolled": true
   },
   "outputs": [
    {
     "data": {
      "text/html": [
       "<div>\n",
       "<style scoped>\n",
       "    .dataframe tbody tr th:only-of-type {\n",
       "        vertical-align: middle;\n",
       "    }\n",
       "\n",
       "    .dataframe tbody tr th {\n",
       "        vertical-align: top;\n",
       "    }\n",
       "\n",
       "    .dataframe thead th {\n",
       "        text-align: right;\n",
       "    }\n",
       "</style>\n",
       "<table border=\"1\" class=\"dataframe\">\n",
       "  <thead>\n",
       "    <tr style=\"text-align: right;\">\n",
       "      <th></th>\n",
       "      <th>Recnum</th>\n",
       "      <th>Cardnum</th>\n",
       "      <th>Date</th>\n",
       "      <th>Merchnum</th>\n",
       "      <th>Merch description</th>\n",
       "      <th>Merch state</th>\n",
       "      <th>Merch zip</th>\n",
       "      <th>Transtype</th>\n",
       "      <th>Amount</th>\n",
       "      <th>Fraud</th>\n",
       "    </tr>\n",
       "  </thead>\n",
       "  <tbody>\n",
       "    <tr>\n",
       "      <th>0</th>\n",
       "      <td>1</td>\n",
       "      <td>5142190439</td>\n",
       "      <td>2006-01-01</td>\n",
       "      <td>5509006296254</td>\n",
       "      <td>FEDEX SHP 12/23/09 AB#</td>\n",
       "      <td>TN</td>\n",
       "      <td>38118.0</td>\n",
       "      <td>P</td>\n",
       "      <td>3.62</td>\n",
       "      <td>0</td>\n",
       "    </tr>\n",
       "    <tr>\n",
       "      <th>1</th>\n",
       "      <td>2</td>\n",
       "      <td>5142183973</td>\n",
       "      <td>2006-01-01</td>\n",
       "      <td>61003026333</td>\n",
       "      <td>SERVICE MERCHANDISE #81</td>\n",
       "      <td>MA</td>\n",
       "      <td>1803.0</td>\n",
       "      <td>P</td>\n",
       "      <td>31.42</td>\n",
       "      <td>0</td>\n",
       "    </tr>\n",
       "    <tr>\n",
       "      <th>2</th>\n",
       "      <td>3</td>\n",
       "      <td>5142131721</td>\n",
       "      <td>2006-01-01</td>\n",
       "      <td>4503082993600</td>\n",
       "      <td>OFFICE DEPOT #191</td>\n",
       "      <td>MD</td>\n",
       "      <td>20706.0</td>\n",
       "      <td>P</td>\n",
       "      <td>178.49</td>\n",
       "      <td>0</td>\n",
       "    </tr>\n",
       "    <tr>\n",
       "      <th>3</th>\n",
       "      <td>4</td>\n",
       "      <td>5142148452</td>\n",
       "      <td>2006-01-01</td>\n",
       "      <td>5509006296254</td>\n",
       "      <td>FEDEX SHP 12/28/09 AB#</td>\n",
       "      <td>TN</td>\n",
       "      <td>38118.0</td>\n",
       "      <td>P</td>\n",
       "      <td>3.62</td>\n",
       "      <td>0</td>\n",
       "    </tr>\n",
       "    <tr>\n",
       "      <th>4</th>\n",
       "      <td>5</td>\n",
       "      <td>5142190439</td>\n",
       "      <td>2006-01-01</td>\n",
       "      <td>5509006296254</td>\n",
       "      <td>FEDEX SHP 12/23/09 AB#</td>\n",
       "      <td>TN</td>\n",
       "      <td>38118.0</td>\n",
       "      <td>P</td>\n",
       "      <td>3.62</td>\n",
       "      <td>0</td>\n",
       "    </tr>\n",
       "  </tbody>\n",
       "</table>\n",
       "</div>"
      ],
      "text/plain": [
       "   Recnum     Cardnum        Date       Merchnum        Merch description  \\\n",
       "0       1  5142190439  2006-01-01  5509006296254   FEDEX SHP 12/23/09 AB#   \n",
       "1       2  5142183973  2006-01-01    61003026333  SERVICE MERCHANDISE #81   \n",
       "2       3  5142131721  2006-01-01  4503082993600        OFFICE DEPOT #191   \n",
       "3       4  5142148452  2006-01-01  5509006296254   FEDEX SHP 12/28/09 AB#   \n",
       "4       5  5142190439  2006-01-01  5509006296254   FEDEX SHP 12/23/09 AB#   \n",
       "\n",
       "  Merch state  Merch zip Transtype  Amount  Fraud  \n",
       "0          TN    38118.0         P    3.62      0  \n",
       "1          MA     1803.0         P   31.42      0  \n",
       "2          MD    20706.0         P  178.49      0  \n",
       "3          TN    38118.0         P    3.62      0  \n",
       "4          TN    38118.0         P    3.62      0  "
      ]
     },
     "execution_count": 5,
     "metadata": {},
     "output_type": "execute_result"
    }
   ],
   "source": [
    "data.head(5)"
   ]
  },
  {
   "cell_type": "code",
   "execution_count": 6,
   "metadata": {
    "hidden": true
   },
   "outputs": [
    {
     "data": {
      "text/plain": [
       "Index(['Recnum', 'Cardnum', 'Date', 'Merchnum', 'Merch description',\n",
       "       'Merch state', 'Merch zip', 'Transtype', 'Amount', 'Fraud'],\n",
       "      dtype='object')"
      ]
     },
     "execution_count": 6,
     "metadata": {},
     "output_type": "execute_result"
    }
   ],
   "source": [
    "data.columns"
   ]
  },
  {
   "cell_type": "code",
   "execution_count": 7,
   "metadata": {
    "hidden": true
   },
   "outputs": [],
   "source": [
    "data['Date'] = pd.to_datetime(data.Date, format='%Y-%m-%d')"
   ]
  },
  {
   "cell_type": "code",
   "execution_count": 8,
   "metadata": {
    "hidden": true
   },
   "outputs": [
    {
     "name": "stderr",
     "output_type": "stream",
     "text": [
      "<ipython-input-8-27dc0256f0a6>:1: FutureWarning: The default value of regex will change from True to False in a future version.\n",
      "  data['Merch zip'] = data['Merch zip'].astype(str).str.replace('.0', '')\n"
     ]
    }
   ],
   "source": [
    "data['Merch zip'] = data['Merch zip'].astype(str).str.replace('.0', '')"
   ]
  },
  {
   "cell_type": "code",
   "execution_count": 9,
   "metadata": {
    "hidden": true
   },
   "outputs": [
    {
     "data": {
      "text/plain": [
       "Recnum                        int64\n",
       "Cardnum                       int64\n",
       "Date                 datetime64[ns]\n",
       "Merchnum                     object\n",
       "Merch description            object\n",
       "Merch state                  object\n",
       "Merch zip                    object\n",
       "Transtype                    object\n",
       "Amount                      float64\n",
       "Fraud                         int64\n",
       "dtype: object"
      ]
     },
     "execution_count": 9,
     "metadata": {},
     "output_type": "execute_result"
    }
   ],
   "source": [
    "data.dtypes"
   ]
  },
  {
   "cell_type": "code",
   "execution_count": 10,
   "metadata": {
    "hidden": true
   },
   "outputs": [],
   "source": [
    "fsc = pd.DataFrame(index=['Cardnum', 'Merchnum', 'Merch description',\n",
    "                          'Merch state', 'Merch zip', 'Transtype', 'Fraud'], \n",
    "                   columns=['% Populated','# Unique Values', 'Most Common Value'])"
   ]
  },
  {
   "cell_type": "code",
   "execution_count": 11,
   "metadata": {
    "hidden": true
   },
   "outputs": [
    {
     "data": {
      "text/html": [
       "<div>\n",
       "<style scoped>\n",
       "    .dataframe tbody tr th:only-of-type {\n",
       "        vertical-align: middle;\n",
       "    }\n",
       "\n",
       "    .dataframe tbody tr th {\n",
       "        vertical-align: top;\n",
       "    }\n",
       "\n",
       "    .dataframe thead th {\n",
       "        text-align: right;\n",
       "    }\n",
       "</style>\n",
       "<table border=\"1\" class=\"dataframe\">\n",
       "  <thead>\n",
       "    <tr style=\"text-align: right;\">\n",
       "      <th></th>\n",
       "      <th>% Populated</th>\n",
       "      <th># Unique Values</th>\n",
       "      <th>Most Common Value</th>\n",
       "    </tr>\n",
       "  </thead>\n",
       "  <tbody>\n",
       "    <tr>\n",
       "      <th>Cardnum</th>\n",
       "      <td>100.0</td>\n",
       "      <td>1,645</td>\n",
       "      <td>5142148452</td>\n",
       "    </tr>\n",
       "    <tr>\n",
       "      <th>Merchnum</th>\n",
       "      <td>100.0</td>\n",
       "      <td>13,092</td>\n",
       "      <td>930090121224</td>\n",
       "    </tr>\n",
       "    <tr>\n",
       "      <th>Merch description</th>\n",
       "      <td>100.0</td>\n",
       "      <td>13,126</td>\n",
       "      <td>GSA-FSS-ADV</td>\n",
       "    </tr>\n",
       "    <tr>\n",
       "      <th>Merch state</th>\n",
       "      <td>98.76</td>\n",
       "      <td>227</td>\n",
       "      <td>TN</td>\n",
       "    </tr>\n",
       "    <tr>\n",
       "      <th>Merch zip</th>\n",
       "      <td>100.0</td>\n",
       "      <td>2,692</td>\n",
       "      <td>38118</td>\n",
       "    </tr>\n",
       "    <tr>\n",
       "      <th>Transtype</th>\n",
       "      <td>100.0</td>\n",
       "      <td>4</td>\n",
       "      <td>P</td>\n",
       "    </tr>\n",
       "    <tr>\n",
       "      <th>Fraud</th>\n",
       "      <td>100.0</td>\n",
       "      <td>2</td>\n",
       "      <td>0</td>\n",
       "    </tr>\n",
       "  </tbody>\n",
       "</table>\n",
       "</div>"
      ],
      "text/plain": [
       "                  % Populated # Unique Values Most Common Value\n",
       "Cardnum                 100.0           1,645        5142148452\n",
       "Merchnum                100.0          13,092      930090121224\n",
       "Merch description       100.0          13,126       GSA-FSS-ADV\n",
       "Merch state             98.76             227                TN\n",
       "Merch zip               100.0           2,692             38118\n",
       "Transtype               100.0               4                 P\n",
       "Fraud                   100.0               2                 0"
      ]
     },
     "execution_count": 11,
     "metadata": {},
     "output_type": "execute_result"
    }
   ],
   "source": [
    "for i in fsc.index:\n",
    "    fsc.loc[i,'% Populated'] = round((100 - data[i].isna().mean()*100),2)\n",
    "    fsc.loc[i,'# Unique Values'] = len(data[i][data[i].notnull()].unique())\n",
    "    fsc.loc[i,'Most Common Value'] = data[i].value_counts().idxmax()\n",
    "fsc['# Unique Values'] = fsc.apply(lambda x: \"{:,}\".format(x['# Unique Values']), axis=1)\n",
    "fsc"
   ]
  },
  {
   "cell_type": "code",
   "execution_count": 12,
   "metadata": {
    "hidden": true
   },
   "outputs": [],
   "source": [
    "fsn = pd.DataFrame(index=['Date', 'Amount'], columns=['% Populated','Min','Max','Mean','Stdev','% Zero'])"
   ]
  },
  {
   "cell_type": "code",
   "execution_count": 13,
   "metadata": {
    "hidden": true
   },
   "outputs": [
    {
     "data": {
      "text/html": [
       "<div>\n",
       "<style scoped>\n",
       "    .dataframe tbody tr th:only-of-type {\n",
       "        vertical-align: middle;\n",
       "    }\n",
       "\n",
       "    .dataframe tbody tr th {\n",
       "        vertical-align: top;\n",
       "    }\n",
       "\n",
       "    .dataframe thead th {\n",
       "        text-align: right;\n",
       "    }\n",
       "</style>\n",
       "<table border=\"1\" class=\"dataframe\">\n",
       "  <thead>\n",
       "    <tr style=\"text-align: right;\">\n",
       "      <th></th>\n",
       "      <th>% Populated</th>\n",
       "      <th>Min</th>\n",
       "      <th>Max</th>\n",
       "      <th>Mean</th>\n",
       "      <th>Stdev</th>\n",
       "      <th>% Zero</th>\n",
       "    </tr>\n",
       "  </thead>\n",
       "  <tbody>\n",
       "    <tr>\n",
       "      <th>Date</th>\n",
       "      <td>100.0</td>\n",
       "      <td>2006-01-01</td>\n",
       "      <td>2006-12-31</td>\n",
       "      <td>NaN</td>\n",
       "      <td>NaN</td>\n",
       "      <td>0.0</td>\n",
       "    </tr>\n",
       "    <tr>\n",
       "      <th>Amount</th>\n",
       "      <td>100.0</td>\n",
       "      <td>0.01</td>\n",
       "      <td>3,102,045.53</td>\n",
       "      <td>427.89</td>\n",
       "      <td>10,006.14</td>\n",
       "      <td>0.0</td>\n",
       "    </tr>\n",
       "  </tbody>\n",
       "</table>\n",
       "</div>"
      ],
      "text/plain": [
       "       % Populated         Min           Max    Mean      Stdev % Zero\n",
       "Date         100.0  2006-01-01    2006-12-31     NaN        NaN    0.0\n",
       "Amount       100.0        0.01  3,102,045.53  427.89  10,006.14    0.0"
      ]
     },
     "execution_count": 13,
     "metadata": {},
     "output_type": "execute_result"
    }
   ],
   "source": [
    "for i in fsn.index:\n",
    "    fsn.loc[i,'% Populated'] = round((100 - data[i].isna().mean()*100),2)\n",
    "    fsn.loc[i,'% Zero'] = round((len(data[data[i]==0])/1000000*100),2)\n",
    "    if i == 'Date':\n",
    "        fsn.loc[i,'Min'] = data[i].min().strftime('%Y-%m-%d')\n",
    "        fsn.loc[i,'Max'] = data[i].max().strftime('%Y-%m-%d')\n",
    "        fsn.loc[i,'Mean'] = np.nan\n",
    "        fsn.loc[i,'Stdev'] = np.nan\n",
    "    else:\n",
    "        fsn.loc[i,'Min'] = data[i].min()\n",
    "        fsn.loc[i,'Max'] = \"{:,}\".format(data[i].max())\n",
    "        fsn.loc[i,'Mean'] = \"{:,}\".format(round(data[i].mean(),2))\n",
    "        fsn.loc[i,'Stdev'] = \"{:,}\".format(round(data[i].std(),2))\n",
    "fsn"
   ]
  },
  {
   "cell_type": "code",
   "execution_count": 14,
   "metadata": {
    "hidden": true
   },
   "outputs": [
    {
     "data": {
      "text/html": [
       "<div>\n",
       "<style scoped>\n",
       "    .dataframe tbody tr th:only-of-type {\n",
       "        vertical-align: middle;\n",
       "    }\n",
       "\n",
       "    .dataframe tbody tr th {\n",
       "        vertical-align: top;\n",
       "    }\n",
       "\n",
       "    .dataframe thead th {\n",
       "        text-align: right;\n",
       "    }\n",
       "</style>\n",
       "<table border=\"1\" class=\"dataframe\">\n",
       "  <thead>\n",
       "    <tr style=\"text-align: right;\">\n",
       "      <th></th>\n",
       "      <th>Recnum</th>\n",
       "      <th>Cardnum</th>\n",
       "      <th>Date</th>\n",
       "      <th>Merchnum</th>\n",
       "      <th>Merch description</th>\n",
       "      <th>Merch state</th>\n",
       "      <th>Merch zip</th>\n",
       "      <th>Transtype</th>\n",
       "      <th>Amount</th>\n",
       "      <th>Fraud</th>\n",
       "    </tr>\n",
       "  </thead>\n",
       "  <tbody>\n",
       "    <tr>\n",
       "      <th>96748</th>\n",
       "      <td>96749</td>\n",
       "      <td>5142276053</td>\n",
       "      <td>2006-12-31</td>\n",
       "      <td>3500000006160</td>\n",
       "      <td>BEST BUY      00001610</td>\n",
       "      <td>KY</td>\n",
       "      <td>442</td>\n",
       "      <td>P</td>\n",
       "      <td>84.79</td>\n",
       "      <td>0</td>\n",
       "    </tr>\n",
       "    <tr>\n",
       "      <th>96749</th>\n",
       "      <td>96750</td>\n",
       "      <td>5142225701</td>\n",
       "      <td>2006-12-31</td>\n",
       "      <td>8090710030950</td>\n",
       "      <td>MARKUS OFFICE SUPPLIES</td>\n",
       "      <td>OH</td>\n",
       "      <td>45248</td>\n",
       "      <td>P</td>\n",
       "      <td>118.75</td>\n",
       "      <td>0</td>\n",
       "    </tr>\n",
       "    <tr>\n",
       "      <th>96750</th>\n",
       "      <td>96751</td>\n",
       "      <td>5142226486</td>\n",
       "      <td>2006-12-31</td>\n",
       "      <td>4503057341100</td>\n",
       "      <td>TECH PAC, INC</td>\n",
       "      <td>OH</td>\n",
       "      <td>451</td>\n",
       "      <td>P</td>\n",
       "      <td>363.56</td>\n",
       "      <td>0</td>\n",
       "    </tr>\n",
       "    <tr>\n",
       "      <th>96751</th>\n",
       "      <td>96752</td>\n",
       "      <td>5142244619</td>\n",
       "      <td>2006-12-31</td>\n",
       "      <td>8834000695412</td>\n",
       "      <td>BUY.COM</td>\n",
       "      <td>CA</td>\n",
       "      <td>92656</td>\n",
       "      <td>P</td>\n",
       "      <td>2202.03</td>\n",
       "      <td>0</td>\n",
       "    </tr>\n",
       "    <tr>\n",
       "      <th>96752</th>\n",
       "      <td>96753</td>\n",
       "      <td>5142243247</td>\n",
       "      <td>2006-12-31</td>\n",
       "      <td>9108347680006</td>\n",
       "      <td>STAPLES NATIONAL #471</td>\n",
       "      <td>NJ</td>\n",
       "      <td>76</td>\n",
       "      <td>P</td>\n",
       "      <td>554.64</td>\n",
       "      <td>0</td>\n",
       "    </tr>\n",
       "  </tbody>\n",
       "</table>\n",
       "</div>"
      ],
      "text/plain": [
       "       Recnum     Cardnum       Date       Merchnum       Merch description  \\\n",
       "96748   96749  5142276053 2006-12-31  3500000006160  BEST BUY      00001610   \n",
       "96749   96750  5142225701 2006-12-31  8090710030950  MARKUS OFFICE SUPPLIES   \n",
       "96750   96751  5142226486 2006-12-31  4503057341100           TECH PAC, INC   \n",
       "96751   96752  5142244619 2006-12-31  8834000695412                 BUY.COM   \n",
       "96752   96753  5142243247 2006-12-31  9108347680006   STAPLES NATIONAL #471   \n",
       "\n",
       "      Merch state Merch zip Transtype   Amount  Fraud  \n",
       "96748          KY       442         P    84.79      0  \n",
       "96749          OH     45248         P   118.75      0  \n",
       "96750          OH       451         P   363.56      0  \n",
       "96751          CA     92656         P  2202.03      0  \n",
       "96752          NJ        76         P   554.64      0  "
      ]
     },
     "execution_count": 14,
     "metadata": {},
     "output_type": "execute_result"
    }
   ],
   "source": [
    "data.tail(5)"
   ]
  },
  {
   "cell_type": "code",
   "execution_count": 15,
   "metadata": {
    "hidden": true
   },
   "outputs": [
    {
     "data": {
      "text/plain": [
       "Recnum               96753\n",
       "Cardnum              96753\n",
       "Date                 96753\n",
       "Merchnum             96753\n",
       "Merch description    96753\n",
       "Merch state          95558\n",
       "Merch zip            96753\n",
       "Transtype            96753\n",
       "Amount               96753\n",
       "Fraud                96753\n",
       "dtype: int64"
      ]
     },
     "execution_count": 15,
     "metadata": {},
     "output_type": "execute_result"
    }
   ],
   "source": [
    "data.count()"
   ]
  },
  {
   "cell_type": "code",
   "execution_count": 16,
   "metadata": {
    "hidden": true
   },
   "outputs": [
    {
     "name": "stdout",
     "output_type": "stream",
     "text": [
      "96753\n",
      "95694\n",
      "1059\n"
     ]
    }
   ],
   "source": [
    "goods = data[data['Fraud'] == 0]\n",
    "bads = data[data['Fraud'] == 1]\n",
    "numrecords = len(data)\n",
    "print(numrecords)\n",
    "print(len(goods))\n",
    "print(len(bads))"
   ]
  },
  {
   "cell_type": "code",
   "execution_count": 17,
   "metadata": {
    "hidden": true
   },
   "outputs": [
    {
     "data": {
      "text/plain": [
       "96753"
      ]
     },
     "execution_count": 17,
     "metadata": {},
     "output_type": "execute_result"
    }
   ],
   "source": [
    "len(data['Recnum'].unique())"
   ]
  },
  {
   "cell_type": "markdown",
   "metadata": {
    "heading_collapsed": true
   },
   "source": [
    "### Cardnum"
   ]
  },
  {
   "cell_type": "code",
   "execution_count": 18,
   "metadata": {
    "hidden": true
   },
   "outputs": [],
   "source": [
    "plt.rcParams.update({'figure.figsize':(6,4)})\n",
    "plt.rcParams.update({'font.size':10})"
   ]
  },
  {
   "cell_type": "code",
   "execution_count": 19,
   "metadata": {
    "hidden": true
   },
   "outputs": [
    {
     "data": {
      "text/plain": [
       "1645"
      ]
     },
     "execution_count": 19,
     "metadata": {},
     "output_type": "execute_result"
    }
   ],
   "source": [
    "len(data['Cardnum'].unique())"
   ]
  },
  {
   "cell_type": "code",
   "execution_count": 20,
   "metadata": {
    "hidden": true
   },
   "outputs": [
    {
     "data": {
      "text/plain": [
       "5142148452    1192\n",
       "5142184598     921\n",
       "5142189108     663\n",
       "5142297710     583\n",
       "5142223373     579\n",
       "              ... \n",
       "5142110002       1\n",
       "5142306704       1\n",
       "5142296479       1\n",
       "5142246010       1\n",
       "5142175806       1\n",
       "Name: Cardnum, Length: 1645, dtype: int64"
      ]
     },
     "execution_count": 20,
     "metadata": {},
     "output_type": "execute_result"
    }
   ],
   "source": [
    "data['Cardnum'].value_counts()"
   ]
  },
  {
   "cell_type": "code",
   "execution_count": 21,
   "metadata": {
    "hidden": true
   },
   "outputs": [
    {
     "data": {
      "text/plain": [
       "(400.0, 1200.0)"
      ]
     },
     "execution_count": 21,
     "metadata": {},
     "output_type": "execute_result"
    },
    {
     "data": {
      "image/png": "[encoded data removed]",
      "text/plain": [
       "<Figure size 432x288 with 1 Axes>"
      ]
     },
     "metadata": {
      "needs_background": "light"
     },
     "output_type": "display_data"
    }
   ],
   "source": [
    "data['Cardnum'].value_counts().head(15).plot(kind='bar')\n",
    "plt.title('Distribution of Cardnum')\n",
    "plt.ylabel('# of Transactions')\n",
    "plt.xlabel('Cardnum')\n",
    "plt.ylim(400,1200)"
   ]
  },
  {
   "cell_type": "markdown",
   "metadata": {
    "heading_collapsed": true
   },
   "source": [
    "### Date"
   ]
  },
  {
   "cell_type": "code",
   "execution_count": 22,
   "metadata": {
    "hidden": true
   },
   "outputs": [
    {
     "data": {
      "text/plain": [
       "365"
      ]
     },
     "execution_count": 22,
     "metadata": {},
     "output_type": "execute_result"
    }
   ],
   "source": [
    "len(data['Date'].unique())"
   ]
  },
  {
   "cell_type": "code",
   "execution_count": 23,
   "metadata": {
    "hidden": true
   },
   "outputs": [],
   "source": [
    "count_day = data.groupby('Date').count()"
   ]
  },
  {
   "cell_type": "code",
   "execution_count": 24,
   "metadata": {
    "hidden": true,
    "scrolled": false
   },
   "outputs": [
    {
     "data": {
      "text/plain": [
       "<AxesSubplot:title={'center':'Daily Transactions'}, xlabel='Date'>"
      ]
     },
     "execution_count": 24,
     "metadata": {},
     "output_type": "execute_result"
    },
    {
     "data": {
      "image/png": "[encoded data removed]",
      "text/plain": [
       "<Figure size 432x288 with 1 Axes>"
      ]
     },
     "metadata": {
      "needs_background": "light"
     },
     "output_type": "display_data"
    }
   ],
   "source": [
    "daily_count = data.assign(apps = np.ones(numrecords)).set_index(data['Date']).resample(dt.timedelta(days = 1))\\\n",
    "    .count().apps\n",
    "daily_count.plot(title = 'Daily Transactions')"
   ]
  },
  {
   "cell_type": "code",
   "execution_count": 25,
   "metadata": {
    "hidden": true
   },
   "outputs": [
    {
     "data": {
      "text/plain": [
       "(800.0, 2600.0)"
      ]
     },
     "execution_count": 25,
     "metadata": {},
     "output_type": "execute_result"
    },
    {
     "data": {
      "image/png": "[encoded data removed]",
      "text/plain": [
       "<Figure size 432x288 with 1 Axes>"
      ]
     },
     "metadata": {
      "needs_background": "light"
     },
     "output_type": "display_data"
    }
   ],
   "source": [
    "weekly_applications = data.assign(apps = np.ones(numrecords)).set_index(data['Date']).resample(dt.timedelta(days = 7))\\\n",
    "    .count().apps\n",
    "weekly_applications.plot(title = 'Weekly Applications')\n",
    "plt.ylabel('# of Application')\n",
    "plt.xlabel('Date')\n",
    "plt.xticks(rotation=0)\n",
    "plt.ylim(800, 2600)"
   ]
  },
  {
   "cell_type": "code",
   "execution_count": 26,
   "metadata": {
    "hidden": true
   },
   "outputs": [
    {
     "data": {
      "text/plain": [
       "<AxesSubplot:title={'center':'Weeky Applications'}, xlabel='Date'>"
      ]
     },
     "execution_count": 26,
     "metadata": {},
     "output_type": "execute_result"
    },
    {
     "data": {
      "image/png": "[encoded data removed]",
      "text/plain": [
       "<Figure size 432x288 with 1 Axes>"
      ]
     },
     "metadata": {
      "needs_background": "light"
     },
     "output_type": "display_data"
    }
   ],
   "source": [
    "ngoods = len(goods)\n",
    "nbads = len(bads)\n",
    "goods_series = goods.assign(apps = np.ones(ngoods)).set_index(goods['Date']).resample(dt.timedelta(days = 7)).count().apps\n",
    "norm_goods_series = goods_series / ngoods\n",
    "norm_goods_series.plot(title = 'Weeky Applications', color = 'green')\n",
    "bads_series = bads.assign(apps = np.ones(nbads)).set_index(bads['Date']).resample(dt.timedelta(days = 7)).count().apps\n",
    "norm_bads_series = bads_series / nbads\n",
    "norm_bads_series.plot(color = 'red')"
   ]
  },
  {
   "cell_type": "markdown",
   "metadata": {},
   "source": [
    "### Merchnum"
   ]
  },
  {
   "cell_type": "code",
   "execution_count": 27,
   "metadata": {},
   "outputs": [
    {
     "data": {
      "text/plain": [
       "930090121224     9310\n",
       "                 3375\n",
       "5509006296254    2131\n",
       "9900020006406    1714\n",
       "602608969534     1092\n",
       "                 ... \n",
       "310400003378        1\n",
       "644000797667        1\n",
       "5900000003810       1\n",
       "492512              1\n",
       "900009088432        1\n",
       "Name: Merchnum, Length: 13092, dtype: int64"
      ]
     },
     "execution_count": 27,
     "metadata": {},
     "output_type": "execute_result"
    }
   ],
   "source": [
    "data['Merchnum'].value_counts()"
   ]
  },
  {
   "cell_type": "code",
   "execution_count": 28,
   "metadata": {},
   "outputs": [
    {
     "data": {
      "text/plain": [
       "13092"
      ]
     },
     "execution_count": 28,
     "metadata": {},
     "output_type": "execute_result"
    }
   ],
   "source": [
    "len(data['Merchnum'].unique())"
   ]
  },
  {
   "cell_type": "code",
   "execution_count": 29,
   "metadata": {},
   "outputs": [
    {
     "data": {
      "text/html": [
       "<div>\n",
       "<style scoped>\n",
       "    .dataframe tbody tr th:only-of-type {\n",
       "        vertical-align: middle;\n",
       "    }\n",
       "\n",
       "    .dataframe tbody tr th {\n",
       "        vertical-align: top;\n",
       "    }\n",
       "\n",
       "    .dataframe thead th {\n",
       "        text-align: right;\n",
       "    }\n",
       "</style>\n",
       "<table border=\"1\" class=\"dataframe\">\n",
       "  <thead>\n",
       "    <tr style=\"text-align: right;\">\n",
       "      <th></th>\n",
       "      <th>Recnum</th>\n",
       "      <th>Cardnum</th>\n",
       "      <th>Date</th>\n",
       "      <th>Merchnum</th>\n",
       "      <th>Merch description</th>\n",
       "      <th>Merch state</th>\n",
       "      <th>Merch zip</th>\n",
       "      <th>Transtype</th>\n",
       "      <th>Amount</th>\n",
       "      <th>Fraud</th>\n",
       "    </tr>\n",
       "  </thead>\n",
       "  <tbody>\n",
       "    <tr>\n",
       "      <th>97</th>\n",
       "      <td>98</td>\n",
       "      <td>5142167414</td>\n",
       "      <td>2006-01-03</td>\n",
       "      <td></td>\n",
       "      <td>CONVENIENCE CHECK FEE(%)</td>\n",
       "      <td>NaN</td>\n",
       "      <td>nan</td>\n",
       "      <td>D</td>\n",
       "      <td>89.00</td>\n",
       "      <td>0</td>\n",
       "    </tr>\n",
       "    <tr>\n",
       "      <th>115</th>\n",
       "      <td>116</td>\n",
       "      <td>5142182128</td>\n",
       "      <td>2006-01-03</td>\n",
       "      <td></td>\n",
       "      <td>GRAINGER #973</td>\n",
       "      <td>IL</td>\n",
       "      <td>089</td>\n",
       "      <td>P</td>\n",
       "      <td>327.34</td>\n",
       "      <td>0</td>\n",
       "    </tr>\n",
       "    <tr>\n",
       "      <th>135</th>\n",
       "      <td>136</td>\n",
       "      <td>5142126842</td>\n",
       "      <td>2006-01-03</td>\n",
       "      <td></td>\n",
       "      <td>AUTOMATED OFFICE PRODU</td>\n",
       "      <td>MD</td>\n",
       "      <td>6</td>\n",
       "      <td>P</td>\n",
       "      <td>2110.00</td>\n",
       "      <td>0</td>\n",
       "    </tr>\n",
       "    <tr>\n",
       "      <th>163</th>\n",
       "      <td>164</td>\n",
       "      <td>5142127276</td>\n",
       "      <td>2006-01-03</td>\n",
       "      <td></td>\n",
       "      <td>CONVENIENCE CHECK FEE(%)</td>\n",
       "      <td>NaN</td>\n",
       "      <td>nan</td>\n",
       "      <td>D</td>\n",
       "      <td>4444.00</td>\n",
       "      <td>0</td>\n",
       "    </tr>\n",
       "    <tr>\n",
       "      <th>168</th>\n",
       "      <td>169</td>\n",
       "      <td>5142132574</td>\n",
       "      <td>2006-01-03</td>\n",
       "      <td></td>\n",
       "      <td>ROLL CALL NEWSPAPER</td>\n",
       "      <td>DC</td>\n",
       "      <td>1</td>\n",
       "      <td>P</td>\n",
       "      <td>104.69</td>\n",
       "      <td>0</td>\n",
       "    </tr>\n",
       "    <tr>\n",
       "      <th>...</th>\n",
       "      <td>...</td>\n",
       "      <td>...</td>\n",
       "      <td>...</td>\n",
       "      <td>...</td>\n",
       "      <td>...</td>\n",
       "      <td>...</td>\n",
       "      <td>...</td>\n",
       "      <td>...</td>\n",
       "      <td>...</td>\n",
       "      <td>...</td>\n",
       "    </tr>\n",
       "    <tr>\n",
       "      <th>96621</th>\n",
       "      <td>96622</td>\n",
       "      <td>5142253938</td>\n",
       "      <td>2006-12-30</td>\n",
       "      <td></td>\n",
       "      <td>OREGON ENVIRONMENTAL COUN</td>\n",
       "      <td>OR</td>\n",
       "      <td>974</td>\n",
       "      <td>P</td>\n",
       "      <td>40.00</td>\n",
       "      <td>0</td>\n",
       "    </tr>\n",
       "    <tr>\n",
       "      <th>96651</th>\n",
       "      <td>96652</td>\n",
       "      <td>5142151962</td>\n",
       "      <td>2006-12-30</td>\n",
       "      <td></td>\n",
       "      <td>RETAIL DEBIT ADJUSTMENT</td>\n",
       "      <td>NaN</td>\n",
       "      <td>nan</td>\n",
       "      <td>P</td>\n",
       "      <td>125.00</td>\n",
       "      <td>0</td>\n",
       "    </tr>\n",
       "    <tr>\n",
       "      <th>96689</th>\n",
       "      <td>96690</td>\n",
       "      <td>5142166019</td>\n",
       "      <td>2006-12-30</td>\n",
       "      <td></td>\n",
       "      <td>ADVANCED SEC &amp; CONTROL</td>\n",
       "      <td>GA</td>\n",
       "      <td>3</td>\n",
       "      <td>P</td>\n",
       "      <td>70.50</td>\n",
       "      <td>0</td>\n",
       "    </tr>\n",
       "    <tr>\n",
       "      <th>96720</th>\n",
       "      <td>96721</td>\n",
       "      <td>5142178272</td>\n",
       "      <td>2006-12-31</td>\n",
       "      <td></td>\n",
       "      <td>TRULOGIC SYSTEMS</td>\n",
       "      <td>ON</td>\n",
       "      <td>nan</td>\n",
       "      <td>P</td>\n",
       "      <td>343.42</td>\n",
       "      <td>0</td>\n",
       "    </tr>\n",
       "    <tr>\n",
       "      <th>96730</th>\n",
       "      <td>96731</td>\n",
       "      <td>5142122644</td>\n",
       "      <td>2006-12-31</td>\n",
       "      <td></td>\n",
       "      <td>RETAIL DEBIT ADJUSTMENT</td>\n",
       "      <td>NaN</td>\n",
       "      <td>nan</td>\n",
       "      <td>P</td>\n",
       "      <td>340.79</td>\n",
       "      <td>0</td>\n",
       "    </tr>\n",
       "  </tbody>\n",
       "</table>\n",
       "<p>3375 rows × 10 columns</p>\n",
       "</div>"
      ],
      "text/plain": [
       "       Recnum     Cardnum       Date Merchnum          Merch description  \\\n",
       "97         98  5142167414 2006-01-03            CONVENIENCE CHECK FEE(%)   \n",
       "115       116  5142182128 2006-01-03                       GRAINGER #973   \n",
       "135       136  5142126842 2006-01-03              AUTOMATED OFFICE PRODU   \n",
       "163       164  5142127276 2006-01-03            CONVENIENCE CHECK FEE(%)   \n",
       "168       169  5142132574 2006-01-03                 ROLL CALL NEWSPAPER   \n",
       "...       ...         ...        ...      ...                        ...   \n",
       "96621   96622  5142253938 2006-12-30           OREGON ENVIRONMENTAL COUN   \n",
       "96651   96652  5142151962 2006-12-30             RETAIL DEBIT ADJUSTMENT   \n",
       "96689   96690  5142166019 2006-12-30              ADVANCED SEC & CONTROL   \n",
       "96720   96721  5142178272 2006-12-31                    TRULOGIC SYSTEMS   \n",
       "96730   96731  5142122644 2006-12-31             RETAIL DEBIT ADJUSTMENT   \n",
       "\n",
       "      Merch state Merch zip Transtype   Amount  Fraud  \n",
       "97            NaN       nan         D    89.00      0  \n",
       "115            IL       089         P   327.34      0  \n",
       "135            MD         6         P  2110.00      0  \n",
       "163           NaN       nan         D  4444.00      0  \n",
       "168            DC         1         P   104.69      0  \n",
       "...           ...       ...       ...      ...    ...  \n",
       "96621          OR       974         P    40.00      0  \n",
       "96651         NaN       nan         P   125.00      0  \n",
       "96689          GA         3         P    70.50      0  \n",
       "96720          ON       nan         P   343.42      0  \n",
       "96730         NaN       nan         P   340.79      0  \n",
       "\n",
       "[3375 rows x 10 columns]"
      ]
     },
     "execution_count": 29,
     "metadata": {},
     "output_type": "execute_result"
    }
   ],
   "source": [
    "data[data['Merchnum'] == '']"
   ]
  },
  {
   "cell_type": "code",
   "execution_count": 30,
   "metadata": {},
   "outputs": [
    {
     "data": {
      "text/plain": [
       "Text(0.5, 0, 'Merchnum')"
      ]
     },
     "execution_count": 30,
     "metadata": {},
     "output_type": "execute_result"
    },
    {
     "data": {
      "image/png": "[encoded data removed]",
      "text/plain": [
       "<Figure size 432x288 with 1 Axes>"
      ]
     },
     "metadata": {
      "needs_background": "light"
     },
     "output_type": "display_data"
    }
   ],
   "source": [
    "data['Merchnum'].value_counts().head(15).plot(kind='bar')\n",
    "plt.title('Distribution of Merchnum')\n",
    "plt.ylabel('# of Transactions')\n",
    "plt.xlabel('Merchnum')"
   ]
  },
  {
   "cell_type": "markdown",
   "metadata": {
    "heading_collapsed": true
   },
   "source": [
    "### Merch description"
   ]
  },
  {
   "cell_type": "code",
   "execution_count": 31,
   "metadata": {
    "hidden": true
   },
   "outputs": [
    {
     "data": {
      "text/plain": [
       "GSA-FSS-ADV               1688\n",
       "SIGMA-ALDRICH             1635\n",
       "STAPLES #941              1174\n",
       "FISHER SCI ATL            1093\n",
       "MWI*MICRO WAREHOUSE        958\n",
       "                          ... \n",
       "STOP & SHOP #718             1\n",
       "BIODEX MEDICAL SYSTEMS       1\n",
       "ANN ARBOR PAINTERS           1\n",
       "THE CONFERENCE MANAGER       1\n",
       "OFFICE FURNITURE-USA         1\n",
       "Name: Merch description, Length: 13126, dtype: int64"
      ]
     },
     "execution_count": 31,
     "metadata": {},
     "output_type": "execute_result"
    }
   ],
   "source": [
    "data['Merch description'].value_counts()"
   ]
  },
  {
   "cell_type": "code",
   "execution_count": 32,
   "metadata": {
    "hidden": true
   },
   "outputs": [
    {
     "data": {
      "text/plain": [
       "13126"
      ]
     },
     "execution_count": 32,
     "metadata": {},
     "output_type": "execute_result"
    }
   ],
   "source": [
    "len(data['Merch description'].unique())"
   ]
  },
  {
   "cell_type": "code",
   "execution_count": 33,
   "metadata": {
    "hidden": true
   },
   "outputs": [
    {
     "data": {
      "text/plain": [
       "(400.0, 1700.0)"
      ]
     },
     "execution_count": 33,
     "metadata": {},
     "output_type": "execute_result"
    },
    {
     "data": {
      "image/png": "[encoded data removed]",
      "text/plain": [
       "<Figure size 432x288 with 1 Axes>"
      ]
     },
     "metadata": {
      "needs_background": "light"
     },
     "output_type": "display_data"
    }
   ],
   "source": [
    "data['Merch description'].value_counts().head(15).plot(kind='bar')\n",
    "plt.title('Distribution of Merch description')\n",
    "plt.ylabel('# of Transactions')\n",
    "plt.xlabel('Merch description')\n",
    "plt.ylim(400, 1700)"
   ]
  },
  {
   "cell_type": "markdown",
   "metadata": {
    "heading_collapsed": true
   },
   "source": [
    "### Merch state"
   ]
  },
  {
   "cell_type": "code",
   "execution_count": 34,
   "metadata": {
    "hidden": true
   },
   "outputs": [
    {
     "data": {
      "text/plain": [
       "TN     12035\n",
       "VA      7872\n",
       "CA      6817\n",
       "IL      6508\n",
       "MD      5398\n",
       "       ...  \n",
       "865        1\n",
       "349        1\n",
       "705        1\n",
       "737        1\n",
       "387        1\n",
       "Name: Merch state, Length: 227, dtype: int64"
      ]
     },
     "execution_count": 34,
     "metadata": {},
     "output_type": "execute_result"
    }
   ],
   "source": [
    "data['Merch state'].value_counts()"
   ]
  },
  {
   "cell_type": "code",
   "execution_count": 35,
   "metadata": {
    "hidden": true
   },
   "outputs": [
    {
     "data": {
      "text/plain": [
       "228"
      ]
     },
     "execution_count": 35,
     "metadata": {},
     "output_type": "execute_result"
    }
   ],
   "source": [
    "len(data['Merch state'].unique())"
   ]
  },
  {
   "cell_type": "code",
   "execution_count": 36,
   "metadata": {
    "hidden": true
   },
   "outputs": [
    {
     "data": {
      "text/plain": [
       "Text(0.5, 0, 'Merch state')"
      ]
     },
     "execution_count": 36,
     "metadata": {},
     "output_type": "execute_result"
    },
    {
     "data": {
      "image/png": "[encoded data removed]",
      "text/plain": [
       "<Figure size 432x288 with 1 Axes>"
      ]
     },
     "metadata": {
      "needs_background": "light"
     },
     "output_type": "display_data"
    }
   ],
   "source": [
    "data['Merch state'].value_counts().head(25).plot(kind='bar')\n",
    "plt.title('Distribution of Merch state')\n",
    "plt.ylabel('# of Transactions')\n",
    "plt.xlabel('Merch state')"
   ]
  },
  {
   "cell_type": "markdown",
   "metadata": {
    "heading_collapsed": true
   },
   "source": [
    "### Merch zip"
   ]
  },
  {
   "cell_type": "code",
   "execution_count": 37,
   "metadata": {
    "hidden": true
   },
   "outputs": [
    {
     "data": {
      "text/plain": [
       "38118    11868\n",
       "nan       4656\n",
       "6         1730\n",
       "633       1661\n",
       "1         1329\n",
       "         ...  \n",
       "19363        1\n",
       "98373        1\n",
       "39441        1\n",
       "768          1\n",
       "33415        1\n",
       "Name: Merch zip, Length: 2692, dtype: int64"
      ]
     },
     "execution_count": 37,
     "metadata": {},
     "output_type": "execute_result"
    }
   ],
   "source": [
    "data['Merch zip'].value_counts()"
   ]
  },
  {
   "cell_type": "code",
   "execution_count": 38,
   "metadata": {
    "hidden": true
   },
   "outputs": [
    {
     "data": {
      "text/plain": [
       "2692"
      ]
     },
     "execution_count": 38,
     "metadata": {},
     "output_type": "execute_result"
    }
   ],
   "source": [
    "len(data['Merch zip'].unique())"
   ]
  },
  {
   "cell_type": "code",
   "execution_count": 39,
   "metadata": {
    "hidden": true
   },
   "outputs": [
    {
     "data": {
      "text/plain": [
       "Text(0.5, 0, 'Merch zip')"
      ]
     },
     "execution_count": 39,
     "metadata": {},
     "output_type": "execute_result"
    },
    {
     "data": {
      "image/png": "[encoded data removed]",
      "text/plain": [
       "<Figure size 432x288 with 1 Axes>"
      ]
     },
     "metadata": {
      "needs_background": "light"
     },
     "output_type": "display_data"
    }
   ],
   "source": [
    "data['Merch zip'].value_counts().head(15).plot(kind='bar', logy=True)\n",
    "plt.title('Distribution of Merch zip')\n",
    "plt.ylabel('# of Transactions (log)')\n",
    "plt.xlabel('Merch zip')"
   ]
  },
  {
   "cell_type": "markdown",
   "metadata": {
    "heading_collapsed": true
   },
   "source": [
    "### Transtype"
   ]
  },
  {
   "cell_type": "code",
   "execution_count": 40,
   "metadata": {
    "hidden": true
   },
   "outputs": [
    {
     "data": {
      "text/plain": [
       "P    96398\n",
       "A      181\n",
       "D      173\n",
       "Y        1\n",
       "Name: Transtype, dtype: int64"
      ]
     },
     "execution_count": 40,
     "metadata": {},
     "output_type": "execute_result"
    }
   ],
   "source": [
    "data['Transtype'].value_counts()"
   ]
  },
  {
   "cell_type": "code",
   "execution_count": 41,
   "metadata": {
    "hidden": true
   },
   "outputs": [
    {
     "data": {
      "text/plain": [
       "(array([0, 1, 2, 3]),\n",
       " [Text(0, 0, 'P'), Text(1, 0, 'A'), Text(2, 0, 'D'), Text(3, 0, 'Y')])"
      ]
     },
     "execution_count": 41,
     "metadata": {},
     "output_type": "execute_result"
    },
    {
     "data": {
      "image/png": "[encoded data removed]",
      "text/plain": [
       "<Figure size 432x288 with 1 Axes>"
      ]
     },
     "metadata": {
      "needs_background": "light"
     },
     "output_type": "display_data"
    }
   ],
   "source": [
    "data['Transtype'].value_counts().plot(kind='bar', logy=True)\n",
    "plt.title('Distribution of Transtype')\n",
    "plt.ylabel('# of Transactions (log)')\n",
    "plt.xlabel('Transtype')\n",
    "plt.xticks(rotation=0)"
   ]
  },
  {
   "cell_type": "markdown",
   "metadata": {
    "heading_collapsed": true
   },
   "source": [
    "### Amount"
   ]
  },
  {
   "cell_type": "code",
   "execution_count": 42,
   "metadata": {
    "hidden": true
   },
   "outputs": [
    {
     "data": {
      "text/plain": [
       "count    9.675300e+04\n",
       "mean     4.278857e+02\n",
       "std      1.000614e+04\n",
       "min      1.000000e-02\n",
       "25%      3.348000e+01\n",
       "50%      1.379800e+02\n",
       "75%      4.282000e+02\n",
       "max      3.102046e+06\n",
       "Name: Amount, dtype: float64"
      ]
     },
     "execution_count": 42,
     "metadata": {},
     "output_type": "execute_result"
    }
   ],
   "source": [
    "data['Amount'].describe()"
   ]
  },
  {
   "cell_type": "code",
   "execution_count": 44,
   "metadata": {
    "hidden": true
   },
   "outputs": [
    {
     "name": "stderr",
     "output_type": "stream",
     "text": [
      "C:\\Users\\Catherine\\anaconda3\\lib\\site-packages\\seaborn\\distributions.py:2557: FutureWarning: `distplot` is a deprecated function and will be removed in a future version. Please adapt your code to use either `displot` (a figure-level function with similar flexibility) or `histplot` (an axes-level function for histograms).\n",
      "  warnings.warn(msg, FutureWarning)\n"
     ]
    },
    {
     "data": {
      "text/plain": [
       "Text(0.5, 0, 'Amount')"
      ]
     },
     "execution_count": 44,
     "metadata": {},
     "output_type": "execute_result"
    },
    {
     "data": {
      "image/png": "[encoded data removed]",
      "text/plain": [
       "<Figure size 432x288 with 1 Axes>"
      ]
     },
     "metadata": {
      "needs_background": "light"
     },
     "output_type": "display_data"
    }
   ],
   "source": [
    "xhigh = 800\n",
    "plt.xlim(0, xhigh)\n",
    "plt.ylim(0, 0.008)\n",
    "temp = data[data['Amount'] <= xhigh]\n",
    "sns.distplot(temp['Amount'], bins=40, kde=True)\n",
    "plt.title('Distribution of Amount')\n",
    "plt.ylabel('Frequency')\n",
    "plt.xlabel('Amount')"
   ]
  }
 ],
 "metadata": {
  "anaconda-cloud": {},
  "kernelspec": {
   "display_name": "Python 3 (ipykernel)",
   "language": "python",
   "name": "python3"
  },
  "language_info": {
   "codemirror_mode": {
    "name": "ipython",
    "version": 3
   },
   "file_extension": ".py",
   "mimetype": "text/x-python",
   "name": "python",
   "nbconvert_exporter": "python",
   "pygments_lexer": "ipython3",
   "version": "3.9.7"
  },
  "varInspector": {
   "cols": {
    "lenName": 16,
    "lenType": 16,
    "lenVar": 40
   },
   "kernels_config": {
    "python": {
     "delete_cmd_postfix": "",
     "delete_cmd_prefix": "del ",
     "library": "var_list.py",
     "varRefreshCmd": "print(var_dic_list())"
    },
    "r": {
     "delete_cmd_postfix": ") ",
     "delete_cmd_prefix": "rm(",
     "library": "var_list.r",
     "varRefreshCmd": "cat(var_dic_list()) "
    }
   },
   "types_to_exclude": [
    "module",
    "function",
    "builtin_function_or_method",
    "instance",
    "_Feature"
   ],
   "window_display": false
  }
 },
 "nbformat": 4,
 "nbformat_minor": 2
}
